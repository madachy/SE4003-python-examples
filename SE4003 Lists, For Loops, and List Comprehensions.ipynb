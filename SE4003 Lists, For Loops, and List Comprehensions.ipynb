{
 "cells": [
  {
   "cell_type": "markdown",
   "id": "db6e1dd2",
   "metadata": {},
   "source": [
    "# Lists\n",
    "\n",
    "A list is a sequence of values which can be of any type. The values in a list are called elements or items. A list is enclosed in square brackets with the values separated by commas.\n",
    "\n",
    "There are several ways to create a list.  A simple way is to enclose the elements in brackets per:\n",
    "\n",
    "```python\n",
    "data = [10, 23, 45, 67]\n",
    "planets = ['earth', 'mercury', 'mars']\n",
    "```\n",
    "\n",
    "The first example is a list of four integers assigned to the variable `data`.  The second is a list of three strings assigned to the variable `planets`. The elements of a list don’t have to be the same type.  Lists can also be nested in other lists.  The following list contains a string, a float, an integer, and another list:\n",
    "\n",
    "```python\n",
    "mixed_list = ['earth', 2.1, 5, [15.1, 23.5, 67.5]]\n",
    "```\n",
    "\n",
    "An empty list contains no elements and can be created with empty brackets `[]`.\n",
    "\n",
    "## Traversing a list\n",
    "\n",
    "The most common way to traverse the elements of a list is with a ```for``` loop using the standard syntax:\n",
    "\n",
    "```python\n",
    "for planet in planets:\n",
    "    print(planet)\n",
    "```\n",
    "This works well to read the elements of the list. If you want to write or update the elements, you need the indices. A common way to do that is to combine the built-in functions range and len:\n",
    "\n",
    "```python\n",
    "for i in range(len(numbers)):\n",
    "    numbers[i] = numbers[i] * 2\n",
    "```\n",
    "This loop traverses the list and updates each element. ```len``` returns the number of elements in the list. ```range``` returns a list of indices from 0 to n−1, where n is the length of the list. Each time through the loop ```i``` gets the index of the next element. The assignment statement in the body uses ```i``` to read the old element value and assign the new value.\n",
    "\n",
    "\n",
    "## List operations\n",
    "\n",
    "The ```+``` operator concatenates lists:\n",
    "\n",
    "```python\n",
    "a = [1, 2, 3]\n",
    "b = [4, 5, 6]\n",
    "c = a + b\n",
    "print(c)\n",
    "```\n",
    "```[1, 2, 3, 4, 5, 6]```\n",
    "\n",
    "\n",
    "The ```*``` operator repeats a list a given number of times:\n",
    "\n",
    "```\n",
    ">>> [0] * 4\n",
    "[0, 0, 0, 0]\n",
    ">>> [1, 2, 3] * 3\n",
    "[1, 2, 3, 1, 2, 3, 1, 2, 3]\n",
    "```\n",
    "The first example repeats ```[0]``` four times. The second example repeats the list ```[1, 2, 3]``` three times.\n",
    "\n",
    "## List methods\n",
    "\n",
    "Python provides methods that operate on lists. The ```append``` method adds a new element to the end of a list:\n",
    "\n",
    "```\n",
    ">>> t = ['a', 'b', 'c']\n",
    ">>> t.append('d')\n",
    ">>> t\n",
    "['a', 'b', 'c', 'd']\n",
    "```\n",
    "\n",
    "The ```sort``` methods arranges the elements of the list from low to high:\n",
    "\n",
    "```\n",
    ">>> t = ['d', 'c', 'e', 'b', 'a']\n",
    ">>> t.sort()\n",
    ">>> t\n",
    "['a', 'b', 'c', 'd', 'e']\n",
    "```\n",
    "\n",
    "\n",
    "\n"
   ]
  },
  {
   "cell_type": "markdown",
   "id": "c55343f1",
   "metadata": {},
   "source": [
    "# For Loop\n",
    "A ```for``` loop is used for iterating over a sequence (either a list, a tuple, a dictionary, a set, or a string). The ``for`` loop has this syntax where the nested statements will be repeated for each item in the sequence:\n",
    "```python\n",
    "for variable in sequence:\n",
    "    one or more statements\n",
    "```\n",
    "One way to control the loop is to use a ```list``` containing a sequence in brackets separated by commas:\n",
    "\n",
    "```python\n",
    "for word in [“one”, “two”, “three”]:\n",
    "    print(word)\n",
    "```\n",
    "Another way is to use the ```range``` function which provides a sequence of numbers and is commonly used with ```for``` loops to specify the number of loops to run.  It is specified as ```range(start, stop)``` and returns a sequence of integers from _start_ up to, but not including the _stop_.  The _start_ parameter is optional and defaults to zero. \n",
    "\n",
    "The following will print the numbers 1 through 10, each on a separate line.\n",
    "```python\n",
    "for number in range(1, 11):\n",
    "    print(number)\n",
    "```\n",
    "\n",
    "Below are examples of using ```for``` loops on strings, lists of strings, and lists of numbers as the iterables. \n"
   ]
  },
  {
   "cell_type": "code",
   "execution_count": 1,
   "id": "d63f05c4",
   "metadata": {},
   "outputs": [
    {
     "name": "stdout",
     "output_type": "stream",
     "text": [
      "H\n",
      "e\n",
      "l\n",
      "l\n",
      "o\n",
      " \n",
      "S\n",
      "E\n",
      "4\n",
      "0\n",
      "0\n",
      "3\n",
      "Hello Auld, Sean\n",
      "Hello Camp, Daniel\n",
      "Hello Daley, Steven\n",
      "Hello Dogum, Gregory\n",
      "Hello Gizas, Ashley\n",
      "Hello Gonzalez, Victor\n",
      "Hello Hill, Benjamin\n",
      "Hello Hogan, Martin\n",
      "Hello Iya, Gabriel\n",
      "Hello Jones Maia, Kristin\n",
      "Hello Kylander, Paul\n",
      "Hello Meisner, Megan\n",
      "Hello Meszaros, Michele\n",
      "Hello Novoa, Jonathan\n",
      "Hello Patterson, Dawn\n",
      "Hello Stokes, Joshua\n",
      "Hello Vermeulen, Suzanne\n",
      "Hello Vey, Nathan\n",
      "Hello Villarreal, Rene\n",
      "Hello Willis, Jerald\n",
      "Hello Wilson, Nicole\n",
      "22\n",
      "45\n",
      "7.5\n",
      "1.8\n"
     ]
    }
   ],
   "source": [
    "for character in 'Hello SE4003':\n",
    "    print(character)\n",
    "\n",
    "# a list of strings that can be iterated on\n",
    "se4003_students = [\n",
    "\"Auld, Sean\",\n",
    "\"Camp, Daniel\",\n",
    "\"Daley, Steven\",\n",
    "\"Dogum, Gregory\",\n",
    "\"Gizas, Ashley\",\n",
    "\"Gonzalez, Victor\",\n",
    "\"Hill, Benjamin\",\n",
    "\"Hogan, Martin\",\n",
    "\"Iya, Gabriel\",\n",
    "\"Jones Maia, Kristin\",\n",
    "\"Kylander, Paul\",\n",
    "\"Meisner, Megan\",\n",
    "\"Meszaros, Michele\",\n",
    "\"Novoa, Jonathan\",\n",
    "\"Patterson, Dawn\",\n",
    "\"Stokes, Joshua\",\n",
    "\"Vermeulen, Suzanne\",\n",
    "\"Vey, Nathan\",\n",
    "\"Villarreal, Rene\",\n",
    "\"Willis, Jerald\",\n",
    "\"Wilson, Nicole\",\n",
    "]\n",
    "\n",
    "# loop through list and assign each value to the variable 'name' in each iteration\n",
    "for name in se4003_students:\n",
    "  print ('Hello', name)\n",
    "\n",
    "data_list = [22, 45, 7.5, 1.8]\n",
    "\n",
    "for value in data_list:\n",
    "  print (value)"
   ]
  },
  {
   "cell_type": "markdown",
   "id": "a7ac7def",
   "metadata": {},
   "source": [
    "## List Comprehensions\n",
    "Below is an example of using a ```for``` loop to populate a list with random values that will be reduced to a single line in a \"list comprehension\".\n",
    "\n",
    "```python\n",
    "import random\n",
    "random_values = []\n",
    "for num in range(10):\n",
    "    random_values.append(random.random())\n",
    "```"
   ]
  },
  {
   "cell_type": "markdown",
   "id": "61bdb40c",
   "metadata": {},
   "source": [
    "The above can be expressed in a single line to populate the list enclosed in brackets:\n",
    "\n",
    "```python\n",
    "random_values = [random.random() for num in range(10)]\n",
    "```\n",
    "\n",
    "The list comprehension statement can also be printed directly to display the values in a single line as below."
   ]
  },
  {
   "cell_type": "code",
   "execution_count": 4,
   "id": "d4a783ea",
   "metadata": {},
   "outputs": [
    {
     "name": "stdout",
     "output_type": "stream",
     "text": [
      "[0.04779021240901815, 0.4363164510910684, 0.2864155034722283, 0.6737370047157383, 0.966817485819037, 0.1991951725147978, 0.9736462899158717, 0.21746369981908975, 0.7404519674402908, 0.6368308995531794]\n"
     ]
    }
   ],
   "source": [
    "print([random.random() for num in range(10)])"
   ]
  },
  {
   "cell_type": "markdown",
   "id": "824c1ea7",
   "metadata": {},
   "source": [
    "List comprehensions can combine multiple for loops for nested logic such as below.  During execution it sets the outer index to its initial value, iterates through the inner loop, then goes back to the outer loop to the next value and continues."
   ]
  },
  {
   "cell_type": "code",
   "execution_count": 9,
   "id": "4db294ca",
   "metadata": {},
   "outputs": [
    {
     "name": "stdout",
     "output_type": "stream",
     "text": [
      "[0, 0, 0, 0, 1, 2, 3, 4, 2, 4, 6, 8, 3, 6, 9, 12, 4, 8, 12, 16]\n"
     ]
    }
   ],
   "source": [
    "print([inner*outer for inner in range(5) for outer in range(1,5)])"
   ]
  },
  {
   "cell_type": "markdown",
   "id": "2431b76a",
   "metadata": {},
   "source": [
    "# Example Program"
   ]
  },
  {
   "cell_type": "code",
   "execution_count": 3,
   "id": "a1ac4394",
   "metadata": {},
   "outputs": [
    {
     "name": "stdout",
     "output_type": "stream",
     "text": [
      "Car 1 Distance Mean  = 548 Miles\n",
      "Car 2 Distance Mean  = 503 Miles\n",
      "[539.5, 560.5, 547.25, 582.75, 542.5, 577.75, 540.75, 559.5, 534.5, 535.5, 554.75, 554.5, 556.75, 545.0, 535.0, 540.0, 546.25, 521.75, 556.5, 548.75, 541.0, 544.25, 560.75, 557.5, 562.75, 558.75, 535.5, 538.75, 542.0, 530.0, 551.25, 564.0, 557.5, 548.25, 540.75, 547.0, 531.75, 538.0, 546.75, 547.0, 559.25, 525.25, 545.0, 559.75, 543.25, 558.5, 565.5, 537.5, 542.25, 556.5]\n",
      "[502.0, 522.5, 481.5, 472.0, 508.75, 507.25, 482.0, 486.25, 493.25, 504.25, 504.5, 531.5, 514.75, 502.25, 511.0, 501.0, 497.25, 505.75, 498.0, 502.75, 516.0, 500.75, 506.5, 503.25, 510.0, 498.5, 518.0, 517.5, 499.25, 498.75, 490.5, 509.5, 494.75, 493.0, 512.0, 495.75, 488.0, 510.5, 511.75, 521.75, 507.5, 536.25, 492.75, 505.5, 504.25, 491.25, 491.0, 523.75, 511.5, 484.75]\n"
     ]
    }
   ],
   "source": [
    "# demonstrate monte carlo simulation with time loop to calculate position over time and calculate simple statistics\n",
    "\n",
    "import random\n",
    "import statistics # used for statistics\n",
    "    \n",
    "dt = .25 # Timestep\n",
    "num_iterations = 50\n",
    "verbose = False # False will turn off single run intermediate output\n",
    "\n",
    "car1_distance, car2_distance = [], [] # initialize output measure lists\n",
    "\n",
    "for iteration in range(num_iterations):\n",
    "  time = 0.\n",
    "  position1 = 50 # Initial position (miles)\n",
    "  position2 = 50 # Initial position (miles)\n",
    "  # print header for time output and initial states\n",
    "  if verbose: print (\"Time  Position 1  Position 2\")\n",
    "  if verbose: print (\"%6.2f %6.2f %6.2f\" % (time, position1, position2))\n",
    "  while time < 10: # Run a 10 hour race\n",
    "      time = time + dt\n",
    "      #random velocities\n",
    "      velocity1 = random.randint(35, 65)\n",
    "      velocity2 = random.randint(30, 60)\n",
    "      position1 = position1 + velocity1*dt\n",
    "      position2 = position2 + velocity2*dt\n",
    "      if verbose: print (\"%6.2f %6.2f %6.2f\" % (time, position1, position2))\n",
    "        \n",
    "  car1_distance.append(position1)\n",
    "  car2_distance.append(position2)\n",
    "    \n",
    "  if verbose: print (\"Final position: %6.2f\" % position1)\n",
    "  if verbose: print (\"Final position2: %6.2f\" % position2)\n",
    "\n",
    "print (f\"Car 1 Distance Mean  = {statistics.mean(car1_distance) :3.0f} Miles\")\n",
    "print (f\"Car 2 Distance Mean  = {statistics.mean(car2_distance) :3.0f} Miles\")\n",
    "\n",
    "print(car1_distance)\n",
    "print(car2_distance)"
   ]
  }
 ],
 "metadata": {
  "kernelspec": {
   "display_name": "Python 3 (ipykernel)",
   "language": "python",
   "name": "python3"
  },
  "language_info": {
   "codemirror_mode": {
    "name": "ipython",
    "version": 3
   },
   "file_extension": ".py",
   "mimetype": "text/x-python",
   "name": "python",
   "nbconvert_exporter": "python",
   "pygments_lexer": "ipython3",
   "version": "3.9.7"
  }
 },
 "nbformat": 4,
 "nbformat_minor": 5
}
